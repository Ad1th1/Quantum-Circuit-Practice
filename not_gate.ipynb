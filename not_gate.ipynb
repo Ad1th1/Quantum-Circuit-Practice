{
 "cells": [
  {
   "cell_type": "code",
   "execution_count": 1,
   "metadata": {},
   "outputs": [],
   "source": [
    "from qiskit import*\n",
    "from qiskit.visualization import plot_histogram\n",
    "import numpy as np"
   ]
  },
  {
   "cell_type": "code",
   "execution_count": 4,
   "metadata": {},
   "outputs": [],
   "source": [
    "def NOT(inp):\n",
    "    qc = QuantumCircuit(1,1)\n",
    "    qc.reset(0)\n",
    "    if inp=='1':\n",
    "        qc.x(0)\n",
    "    qc.barrier()\n",
    "    qc.x(0)\n",
    "    qc.barrier()\n",
    "    qc.measure(0,0)\n",
    "    qc.draw('mpl')\n",
    "    backend = Aer.get_backend('qasm_simulator')\n",
    "\n",
    "    job = execute(qc,backend,shots=1,memory=True)\n",
    "    output = job.result().get_memory()[0]\n",
    "\n",
    "    return qc,output\n",
    "\n"
   ]
  },
  {
   "cell_type": "code",
   "execution_count": 5,
   "metadata": {},
   "outputs": [
    {
     "name": "stdout",
     "output_type": "stream",
     "text": [
      "NOT with input 0 gives output 1\n"
     ]
    },
    {
     "data": {
      "text/html": [
       "<pre style=\"word-wrap: normal;white-space: pre;background: #fff0;line-height: 1.1;font-family: &quot;Courier New&quot;,Courier,monospace\">           ░ ┌───┐ ░ ┌─┐\n",
       "  q: ─|0>──░─┤ X ├─░─┤M├\n",
       "           ░ └───┘ ░ └╥┘\n",
       "c: 1/═════════════════╩═\n",
       "                      0 </pre>"
      ],
      "text/plain": [
       "           ░ ┌───┐ ░ ┌─┐\n",
       "  q: ─|0>──░─┤ X ├─░─┤M├\n",
       "           ░ └───┘ ░ └╥┘\n",
       "c: 1/═════════════════╩═\n",
       "                      0 "
      ]
     },
     "metadata": {},
     "output_type": "display_data"
    },
    {
     "name": "stdout",
     "output_type": "stream",
     "text": [
      "\n",
      "\n",
      "NOT with input 1 gives output 0\n"
     ]
    },
    {
     "data": {
      "text/html": [
       "<pre style=\"word-wrap: normal;white-space: pre;background: #fff0;line-height: 1.1;font-family: &quot;Courier New&quot;,Courier,monospace\">          ┌───┐ ░ ┌───┐ ░ ┌─┐\n",
       "  q: ─|0>─┤ X ├─░─┤ X ├─░─┤M├\n",
       "          └───┘ ░ └───┘ ░ └╥┘\n",
       "c: 1/══════════════════════╩═\n",
       "                           0 </pre>"
      ],
      "text/plain": [
       "          ┌───┐ ░ ┌───┐ ░ ┌─┐\n",
       "  q: ─|0>─┤ X ├─░─┤ X ├─░─┤M├\n",
       "          └───┘ ░ └───┘ ░ └╥┘\n",
       "c: 1/══════════════════════╩═\n",
       "                           0 "
      ]
     },
     "metadata": {},
     "output_type": "display_data"
    },
    {
     "name": "stdout",
     "output_type": "stream",
     "text": [
      "\n",
      "\n"
     ]
    }
   ],
   "source": [
    "for inp in ['0','1']:\n",
    "    qc, out = NOT(inp)\n",
    "\n",
    "    print('NOT with input',inp,'gives output',out)\n",
    "    display(qc.draw())\n",
    "    print('\\n')"
   ]
  }
 ],
 "metadata": {
  "kernelspec": {
   "display_name": "Python 3.8.10 64-bit",
   "language": "python",
   "name": "python3"
  },
  "language_info": {
   "codemirror_mode": {
    "name": "ipython",
    "version": 3
   },
   "file_extension": ".py",
   "mimetype": "text/x-python",
   "name": "python",
   "nbconvert_exporter": "python",
   "pygments_lexer": "ipython3",
   "version": "3.8.10"
  },
  "orig_nbformat": 4,
  "vscode": {
   "interpreter": {
    "hash": "916dbcbb3f70747c44a77c7bcd40155683ae19c65e1c03b4aa3499c5328201f1"
   }
  }
 },
 "nbformat": 4,
 "nbformat_minor": 2
}
